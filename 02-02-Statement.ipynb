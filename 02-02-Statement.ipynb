{
 "cells": [
  {
   "cell_type": "markdown",
   "metadata": {},
   "source": [
    "# <center> Statement"
   ]
  },
  {
   "cell_type": "markdown",
   "metadata": {},
   "source": [
    "<img src=\"https://drive.google.com/uc?id=1GN24gi7muF7iIDB4m9Tax8sHr3CUZWJb\" align=right width=100>"
   ]
  },
  {
   "cell_type": "markdown",
   "metadata": {},
   "source": [
    "<div align=right>บำรุง พ่วงเกิด<br>ผู้สอน bumroong.pu@kmitl.ac.th</div>"
   ]
  },
  {
   "cell_type": "markdown",
   "metadata": {},
   "source": [
    "**ลำดับขั้นของไพธอน (The Python Conceptual Hierarchy)**\n",
    "\n",
    "1. Programs are composed of modules.\n",
    "2. Modules contain statements.\n",
    "3. Statements contain expressions.\n",
    "4. Expressions create and process objects."
   ]
  },
  {
   "cell_type": "markdown",
   "metadata": {},
   "source": [
    "## Python Statement"
   ]
  },
  {
   "cell_type": "markdown",
   "metadata": {},
   "source": [
    "<table>\n",
    "    <tr>\n",
    "        <td><div align=center><b>Statement</b></div>\n",
    "        <td><div align=center><b>หน้าที่ (Role) </b></div>\n",
    "        <td><div align=center><b>ตัวอย่าง (Example) </b></div>\n",
    "     <tr>\n",
    "         <td>Assignment การให้ค่า\n",
    "         <td>Creating references สร้างการชี้ไปที่ค่า \n",
    "         <td><pre>a, b = 'good', 'bad'</pre>\n",
    "             <div align=center>ทางขวามือเรียกว่า Literals</div>\n",
    "    </table>"
   ]
  },
  {
   "cell_type": "markdown",
   "metadata": {},
   "source": [
    "Statement บน Python มีลักษณะสำคัญ\n",
    "\n",
    "1. ใช้กั้นหน้า (Indent) บอก Statement ระดับของกั้นหน้า ตามเครื่องหมายทวิภาค (:)\n",
    "1. หลีกเลี่ยงการใช้วงเล็บ \"( )\" วงเล็บใช้กับตัวเก็บ (Container) แบบ Tuple"
   ]
  },
  {
   "cell_type": "code",
   "execution_count": null,
   "metadata": {},
   "outputs": [],
   "source": [
    ":\n",
    "    :\n",
    "        :\n",
    "            :\n",
    "                "
   ]
  },
  {
   "cell_type": "markdown",
   "metadata": {},
   "source": [
    "กั้นหน้าทำให้ Code ของ Python อ่านง่าย ทำให้ Python เป็นที่นิยมใช้กันทั่วไป"
   ]
  },
  {
   "cell_type": "markdown",
   "metadata": {},
   "source": [
    "## The Assignment Statement"
   ]
  },
  {
   "cell_type": "markdown",
   "metadata": {},
   "source": [
    "<pre>\n",
    "<i>\n",
    "target = expression\n",
    "target1 = target2 = expression\n",
    "target1, target2 = expression1, expression2\n",
    "target1 += expression\n",
    "<br>\n",
    "target1, target2, ... = same-length-iterable\n",
    "(target1, target2, ...) = same-length-iterable\n",
    "[target1, target2, ...] = same-length-iterable\n",
    "target1, *target2, ... = matching-length-iterable"
   ]
  },
  {
   "cell_type": "markdown",
   "metadata": {},
   "source": [
    "#### Sequence Assignments"
   ]
  },
  {
   "cell_type": "code",
   "execution_count": 1,
   "metadata": {},
   "outputs": [
    {
     "data": {
      "text/plain": [
       "(1, 2)"
      ]
     },
     "execution_count": 1,
     "metadata": {},
     "output_type": "execute_result"
    }
   ],
   "source": [
    "nudge = 1                # Basic assignment\n",
    "wink = 2\n",
    "A, B = nudge, wink       # Tuple assignment\n",
    "A, B"
   ]
  },
  {
   "cell_type": "code",
   "execution_count": 2,
   "metadata": {},
   "outputs": [],
   "source": [
    "[C, D] = [nudge, wink]   # List assignment\n",
    "C, D"
   ]
  },
  {
   "cell_type": "code",
   "execution_count": 3,
   "metadata": {},
   "outputs": [
    {
     "data": {
      "text/plain": [
       "(2, 1)"
      ]
     },
     "execution_count": 3,
     "metadata": {},
     "output_type": "execute_result"
    }
   ],
   "source": [
    "''' การสลับค่า '''\n",
    "\n",
    "nudge = 1\n",
    "wink = 2\n",
    "nudge, wink = wink, nudge        # Tuples: swaps values\n",
    "nudge, wink                      # Like T = nudge; nudge = wink; wink = T"
   ]
  },
  {
   "cell_type": "code",
   "execution_count": 4,
   "metadata": {},
   "outputs": [
    {
     "data": {
      "text/plain": [
       "(1, 3)"
      ]
     },
     "execution_count": 4,
     "metadata": {},
     "output_type": "execute_result"
    }
   ],
   "source": [
    "[a, b, c] = (1, 2, 3)            # Assign tuple of values to list of names\n",
    "a, c"
   ]
  },
  {
   "cell_type": "code",
   "execution_count": 5,
   "metadata": {},
   "outputs": [
    {
     "data": {
      "text/plain": [
       "('A', 'C')"
      ]
     },
     "execution_count": 5,
     "metadata": {},
     "output_type": "execute_result"
    }
   ],
   "source": [
    "(a, b, c) = \"ABC\"                # Assign string of characters to tuple\n",
    "a, c"
   ]
  },
  {
   "cell_type": "code",
   "execution_count": null,
   "metadata": {},
   "outputs": [],
   "source": []
  }
 ],
 "metadata": {
  "kernelspec": {
   "display_name": "Python 3",
   "language": "python",
   "name": "python3"
  },
  "language_info": {
   "codemirror_mode": {
    "name": "ipython",
    "version": 3
   },
   "file_extension": ".py",
   "mimetype": "text/x-python",
   "name": "python",
   "nbconvert_exporter": "python",
   "pygments_lexer": "ipython3",
   "version": "3.8.7"
  }
 },
 "nbformat": 4,
 "nbformat_minor": 4
}
